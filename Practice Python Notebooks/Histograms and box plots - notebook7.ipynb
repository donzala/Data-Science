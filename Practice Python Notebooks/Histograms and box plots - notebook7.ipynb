{
 "cells": [
  {
   "cell_type": "markdown",
   "metadata": {},
   "source": [
    "# Histograms and mustache boxes\n"
   ]
  },
  {
   "cell_type": "code",
   "execution_count": 62,
   "metadata": {},
   "outputs": [],
   "source": [
    "import pandas as pd\n",
    "import matplotlib.pyplot as plt\n",
    "import numpy as np\n",
    "fan=pd.read_csv(\"fandango_score_comparison.csv\")"
   ]
  },
  {
   "cell_type": "markdown",
   "metadata": {},
   "source": [
    "## Frequency distribution\n"
   ]
  },
  {
   "cell_type": "markdown",
   "metadata": {},
   "source": [
    "- Use the value_counts() method to return the frequency count of the 'IMDB_norm' column. Sort the resulting Series object by its index and assign the result to the variable imdb_distribution.\n",
    "- Display the result.\n"
   ]
  },
  {
   "cell_type": "code",
   "execution_count": 63,
   "metadata": {},
   "outputs": [
    {
     "name": "stdout",
     "output_type": "stream",
     "text": [
      "2.00     1\n",
      "2.10     1\n",
      "2.15     1\n",
      "2.20     1\n",
      "2.30     2\n",
      "2.45     2\n",
      "2.50     1\n",
      "2.55     1\n",
      "2.60     2\n",
      "2.70     4\n",
      "2.75     5\n",
      "2.80     2\n",
      "2.85     1\n",
      "2.90     1\n",
      "2.95     3\n",
      "3.00     2\n",
      "3.05     4\n",
      "3.10     1\n",
      "3.15     9\n",
      "3.20     6\n",
      "3.25     4\n",
      "3.30     9\n",
      "3.35     7\n",
      "3.40     1\n",
      "3.45     7\n",
      "3.50     4\n",
      "3.55     7\n",
      "3.60    10\n",
      "3.65     5\n",
      "3.70     8\n",
      "3.75     6\n",
      "3.80     3\n",
      "3.85     4\n",
      "3.90     9\n",
      "3.95     2\n",
      "4.00     1\n",
      "4.05     1\n",
      "4.10     4\n",
      "4.15     1\n",
      "4.20     2\n",
      "4.30     1\n",
      "Name: IMDB_norm, dtype: int64\n"
     ]
    }
   ],
   "source": [
    "# Use the value_counts() method to return the frequency count of the 'IMDB_norm' column. Sort the resulting Series object by its index and assign the result to the variable imdb_distribution.\n",
    "imdb_distribution=pd.Series(fan[\"IMDB_norm\"].value_counts()).sort_index()\n",
    "# Display the result.\n",
    "print(imdb_distribution)"
   ]
  },
  {
   "cell_type": "markdown",
   "metadata": {},
   "source": [
    "## [ Matplotlib ] ##[Continues] The histograms with Matplotlib ##\n"
   ]
  },
  {
   "cell_type": "markdown",
   "metadata": {},
   "source": [
    "- Create a subgraph and assign the objects Figure to the variable fig and Axes to the variable ax.\n",
    "- Generate a histogram of the values in the column 'Fandango_Ratingvalue' using a range from 0 to 5.\n",
    "- Use plt.show() to display the graph.\n"
   ]
  },
  {
   "cell_type": "code",
   "execution_count": 64,
   "metadata": {},
   "outputs": [
    {
     "data": {
      "image/png": "[encoded data removed]",
      "text/plain": [
       "<Figure size 432x288 with 1 Axes>"
      ]
     },
     "metadata": {
      "needs_background": "light"
     },
     "output_type": "display_data"
    }
   ],
   "source": [
    "# Create a subgraph and assign the objects Figure to the variable fig and Axes to the variable ax.\n",
    "fig,ax = plt.subplots()\n",
    "# Generate a histogram of the values in the column 'Fandango_Ratingvalue' using a range from 0 to 5.\n",
    "ax.hist(fan[\"Fandango_Ratingvalue\"], range=[0,5])\n",
    "# Use plt.show() to display the graph.\n",
    "plt.show()"
   ]
  },
  {
   "cell_type": "markdown",
   "metadata": {},
   "source": [
    "## Comparison of histograms\n"
   ]
  },
  {
   "cell_type": "markdown",
   "metadata": {},
   "source": [
    "Draw a graph with 4 subgraphs:\n",
    "- For the subgraph associated with the variable ax1:\n",
    ">- Generate a histogram of the values in the column 'Fandango_Ratingvalue' using 20 classes (bins) and an interval from 0 to 5.\n",
    "- For the subgraph associated with the variable ax2:\n",
    ">- Generate a histogram of the values of the column 'RT_user_norm' using 20 classes (bins) and an interval from 0 to 5\n",
    "- For the subgraph associated with the variable ax3:\n",
    ">- Generate a histogram of the values of the column 'Metacritic_user_name' using 20 classes (bins) and an interval from 0 to 5\n",
    "- For the subgraph associated with the variable ax4:\n",
    ">- Generate a histogram of the values of the column 'IMDB_norm' using 20 classes (bins) and an interval from 0 to 5\n",
    "- For all graphs set the range on the y-axis from 0 to 50 using Axes.set_ylim() and choose a title.\n",
    "- Display the histograms.\n"
   ]
  },
  {
   "cell_type": "code",
   "execution_count": 65,
   "metadata": {},
   "outputs": [
    {
     "data": {
      "image/png": "[encoded data removed]",
      "text/plain": [
       "<Figure size 1080x576 with 4 Axes>"
      ]
     },
     "metadata": {
      "needs_background": "light"
     },
     "output_type": "display_data"
    }
   ],
   "source": [
    "# Draw a graph with 4 subgraphs:\n",
    "fig,ax= plt.subplots(2,2,figsize=(15,8))\n",
    "fig.suptitle(\"Comparison of Histograms\")\n",
    "\n",
    "# For the subgraph associated with the variable ax1:\n",
    "ax[0,0].hist(fan[\"Fandango_Ratingvalue\"], range=[0,5], bins=20)\n",
    "\n",
    "\n",
    "# For the subgraph associated with the variable ax2:\n",
    "ax[0,1].hist(fan[\"RT_user_norm\"], range=[0,5], bins=20)\n",
    "\n",
    "\n",
    "# For the subgraph associated with the variable ax3:\n",
    "ax[1,0].hist(fan[\"Metacritic_user_nom\"], range=[0,5], bins=20)\n",
    "\n",
    "\n",
    "# For the subgraph associated with the variable ax4:\n",
    "ax[1,1].hist(fan[\"IMDB_norm\"], range=[0,5], bins=20)\n",
    "\n",
    "# For all graphs set the range on the y-axis from 0 to 50 using Axes.set_ylim() and choose a title.\n",
    "ax[0,0].set_ylim(0,50)\n",
    "ax[0,0].set_title('Histogram of Fandango_Ratingvalue')\n",
    "ax[0,1].set_ylim(0,50)\n",
    "ax[0,1].set_title('Histogram of RT_user_norm')\n",
    "ax[0,1].set_ylim(0,50)\n",
    "ax[1,0].set_title('Histohram of Metacritic_user_nom')\n",
    "ax[1,1].set_ylim(0,50)\n",
    "ax[1,1].set_title('Histogram of IMDB_norm')\n",
    "# Display the histograms.\n",
    "plt.show()"
   ]
  },
  {
   "cell_type": "markdown",
   "metadata": {},
   "source": [
    "## Multiple box diagrams ##\n"
   ]
  },
  {
   "cell_type": "markdown",
   "metadata": {},
   "source": [
    "- Create a subgraph and assign the objects Figure to the variable fig and Axes to the variable ax.\n",
    "- Generate a box diagram for each column of num_cols = ['RT_user_norm', 'Metacritic_user_name', 'IMDB_norm', 'Fandango_Ratingvalue'].\n",
    "- Define for each diagram a heading corresponding to the name of the column num_cols and rotate this heading by 90 degrees.\n",
    "- Define the y-axis interval from 0 to 5.\n",
    "- Display the graph.\n"
   ]
  },
  {
   "cell_type": "code",
   "execution_count": 66,
   "metadata": {},
   "outputs": [
    {
     "data": {
      "image/png": "[encoded data removed]",
      "text/plain": [
       "<Figure size 1080x576 with 1 Axes>"
      ]
     },
     "metadata": {
      "needs_background": "light"
     },
     "output_type": "display_data"
    }
   ],
   "source": [
    "num_cols = ['RT_user_norm', 'Metacritic_user_nom', 'IMDB_norm', 'Fandango_Ratingvalue']\n",
    "\n",
    "# Create a subgraph and assign the objects Figure to the variable fig and Axes to the variable ax.\n",
    "fig,ax= plt.subplots(figsize=(15,8))\n",
    "# Generate a box diagram for each column of num_cols = ['RT_user_norm', 'Metacritic_user_name', 'IMDB_norm', 'Fandango_Ratingvalue'].\n",
    "ax.boxplot(fan[num_cols].values)\n",
    "# Define the y-axis interval from 0 to 5.\n",
    "ax.set_ylim(0, 5)\n",
    "# Define for each diagram a heading corresponding to the name of the column num_cols and rotate this heading by 90 degrees.\n",
    "ax.set_xticklabels(num_cols,rotation=90)\n",
    "# Display the graph.\n",
    "plt.show()\n"
   ]
  }
 ],
 "metadata": {
  "kernelspec": {
   "display_name": "Python 3",
   "language": "python",
   "name": "python3"
  },
  "language_info": {
   "codemirror_mode": {
    "name": "ipython",
    "version": 3
   },
   "file_extension": ".py",
   "mimetype": "text/x-python",
   "name": "python",
   "nbconvert_exporter": "python",
   "pygments_lexer": "ipython3",
   "version": "3.7.4"
  }
 },
 "nbformat": 4,
 "nbformat_minor": 2
}
