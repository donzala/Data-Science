{
 "cells": [
  {
   "cell_type": "markdown",
   "metadata": {
    "slideshow": {
     "slide_type": "slide"
    }
   },
   "source": [
    "# Linear Regression Consulting Project"
   ]
  },
  {
   "cell_type": "markdown",
   "metadata": {
    "slideshow": {
     "slide_type": "slide"
    }
   },
   "source": [
    "Congratulations! You've been contracted by Hyundai Heavy Industries to help them build a predictive model for some ships. [Hyundai Heavy Industries](http://www.hyundai.eu/en) is one of the world's largest ship manufacturing companies and builds cruise liners.\n",
    "\n",
    "You've been flown to their headquarters in Ulsan, South Korea to help them give accurate estimates of how many crew members a ship will require.\n",
    "\n",
    "They are currently building new ships for some customers and want you to create a model and use it to predict how many crew members the ships will need.\n",
    "\n",
    "Here is what the data looks like so far:\n",
    "\n",
    "    Description: Measurements of ship size, capacity, crew, and age for 158 cruise\n",
    "    ships.\n",
    "\n",
    "\n",
    "    Variables/Columns\n",
    "    Ship Name     1-20\n",
    "    Cruise Line   21-40\n",
    "    Age (as of 2013)   46-48\n",
    "    Tonnage (1000s of tons)   50-56\n",
    "    passengers (100s)   58-64\n",
    "    Length (100s of feet)  66-72\n",
    "    Cabins  (100s)   74-80\n",
    "    Passenger Density   82-88\n",
    "    Crew  (100s)   90-96\n",
    "    \n",
    "It is saved in a csv file for you called \"cruise_ship_info.csv\". Your job is to create a regression model that will help predict how many crew members will be needed for future ships. The client also mentioned that they have found that particular cruise lines will differ in acceptable crew counts, so it is most likely an important feature to include in your analysis! \n",
    "\n",
    "Once you've created the model and tested it for a quick check on how well you can expect it to perform, make sure you take a look at why it performs so well!"
   ]
  },
  {
   "cell_type": "code",
   "execution_count": 1,
   "metadata": {},
   "outputs": [],
   "source": [
    "from pyspark.sql import SparkSession\n",
    "from pyspark.ml.regression import LinearRegression\n",
    "from pyspark.ml.linalg import Vectors\n",
    "from pyspark.ml.feature import VectorAssembler"
   ]
  },
  {
   "cell_type": "code",
   "execution_count": 2,
   "metadata": {},
   "outputs": [],
   "source": [
    "spark = SparkSession.builder.appName('First_spark_LinearRegression_Project').getOrCreate()"
   ]
  },
  {
   "cell_type": "code",
   "execution_count": 3,
   "metadata": {},
   "outputs": [
    {
     "name": "stdout",
     "output_type": "stream",
     "text": [
      "root\n",
      " |-- Ship_name: string (nullable = true)\n",
      " |-- Cruise_line: string (nullable = true)\n",
      " |-- Age: integer (nullable = true)\n",
      " |-- Tonnage: double (nullable = true)\n",
      " |-- passengers: double (nullable = true)\n",
      " |-- length: double (nullable = true)\n",
      " |-- cabins: double (nullable = true)\n",
      " |-- passenger_density: double (nullable = true)\n",
      " |-- crew: double (nullable = true)\n",
      "\n"
     ]
    }
   ],
   "source": [
    "cruisedata = spark.read.csv(\"cruise_ship_info.csv\",inferSchema=True,header=True)\n",
    "#Data types of the columns in the dataframe made using the data from CSV\n",
    "cruisedata.printSchema()"
   ]
  },
  {
   "cell_type": "code",
   "execution_count": 4,
   "metadata": {},
   "outputs": [
    {
     "name": "stdout",
     "output_type": "stream",
     "text": [
      "+-----------+-----------+---+------------------+----------+------+------+-----------------+----+\n",
      "|  Ship_name|Cruise_line|Age|           Tonnage|passengers|length|cabins|passenger_density|crew|\n",
      "+-----------+-----------+---+------------------+----------+------+------+-----------------+----+\n",
      "|    Journey|    Azamara|  6|30.276999999999997|      6.94|  5.94|  3.55|            42.64|3.55|\n",
      "|      Quest|    Azamara|  6|30.276999999999997|      6.94|  5.94|  3.55|            42.64|3.55|\n",
      "|Celebration|   Carnival| 26|            47.262|     14.86|  7.22|  7.43|             31.8| 6.7|\n",
      "|   Conquest|   Carnival| 11|             110.0|     29.74|  9.53| 14.88|            36.99|19.1|\n",
      "|    Destiny|   Carnival| 17|           101.353|     26.42|  8.92| 13.21|            38.36|10.0|\n",
      "|    Ecstasy|   Carnival| 22|            70.367|     20.52|  8.55|  10.2|            34.29| 9.2|\n",
      "|    Elation|   Carnival| 15|            70.367|     20.52|  8.55|  10.2|            34.29| 9.2|\n",
      "|    Fantasy|   Carnival| 23|            70.367|     20.56|  8.55| 10.22|            34.23| 9.2|\n",
      "|Fascination|   Carnival| 19|            70.367|     20.52|  8.55|  10.2|            34.29| 9.2|\n",
      "|    Freedom|   Carnival|  6|110.23899999999999|      37.0|  9.51| 14.87|            29.79|11.5|\n",
      "|      Glory|   Carnival| 10|             110.0|     29.74|  9.51| 14.87|            36.99|11.6|\n",
      "|    Holiday|   Carnival| 28|            46.052|     14.52|  7.27|  7.26|            31.72| 6.6|\n",
      "|Imagination|   Carnival| 18|            70.367|     20.52|  8.55|  10.2|            34.29| 9.2|\n",
      "|Inspiration|   Carnival| 17|            70.367|     20.52|  8.55|  10.2|            34.29| 9.2|\n",
      "|     Legend|   Carnival| 11|              86.0|     21.24|  9.63| 10.62|            40.49| 9.3|\n",
      "|   Liberty*|   Carnival|  8|             110.0|     29.74|  9.51| 14.87|            36.99|11.6|\n",
      "|    Miracle|   Carnival|  9|              88.5|     21.24|  9.63| 10.62|            41.67|10.3|\n",
      "|   Paradise|   Carnival| 15|            70.367|     20.52|  8.55|  10.2|            34.29| 9.2|\n",
      "|      Pride|   Carnival| 12|              88.5|     21.24|  9.63| 11.62|            41.67| 9.3|\n",
      "|  Sensation|   Carnival| 20|            70.367|     20.52|  8.55|  10.2|            34.29| 9.2|\n",
      "+-----------+-----------+---+------------------+----------+------+------+-----------------+----+\n",
      "only showing top 20 rows\n",
      "\n"
     ]
    }
   ],
   "source": [
    "#Data obtained from the CSV\n",
    "cruisedata.show()"
   ]
  },
  {
   "cell_type": "code",
   "execution_count": 5,
   "metadata": {},
   "outputs": [],
   "source": [
    "#grouping the columns that can be used for predicting crew memebers\n",
    "calculator = VectorAssembler(inputCols=[\"Age\", \"Tonnage\", \"passengers\",\"length\",\"cabins\",\"passenger_density\"],\n",
    "                             outputCol=\"features\")"
   ]
  },
  {
   "cell_type": "code",
   "execution_count": 6,
   "metadata": {},
   "outputs": [],
   "source": [
    "outcome=calculator.transform(cruisedata)"
   ]
  },
  {
   "cell_type": "code",
   "execution_count": 7,
   "metadata": {},
   "outputs": [],
   "source": [
    "#making a dataframe using the features and label column\n",
    "total_data = outcome.select(\"features\",'crew')"
   ]
  },
  {
   "cell_type": "code",
   "execution_count": 8,
   "metadata": {},
   "outputs": [],
   "source": [
    "#splitting the dataframe into training and testing data\n",
    "train_data,test_data = total_data.randomSplit([0.8,0.2])"
   ]
  },
  {
   "cell_type": "code",
   "execution_count": 9,
   "metadata": {},
   "outputs": [
    {
     "name": "stdout",
     "output_type": "stream",
     "text": [
      "+-------+------------------+\n",
      "|summary|              crew|\n",
      "+-------+------------------+\n",
      "|  count|               126|\n",
      "|   mean| 7.755079365079375|\n",
      "| stddev|3.5028488396804662|\n",
      "|    min|              0.59|\n",
      "|    max|              19.1|\n",
      "+-------+------------------+\n",
      "\n"
     ]
    }
   ],
   "source": [
    "#summary of training data\n",
    "train_data.describe().show()"
   ]
  },
  {
   "cell_type": "code",
   "execution_count": 10,
   "metadata": {},
   "outputs": [
    {
     "name": "stdout",
     "output_type": "stream",
     "text": [
      "+-------+------------------+\n",
      "|summary|              crew|\n",
      "+-------+------------------+\n",
      "|  count|                32|\n",
      "|   mean| 7.948124999999998|\n",
      "| stddev|3.5577670031056132|\n",
      "|    min|              0.59|\n",
      "|    max|              21.0|\n",
      "+-------+------------------+\n",
      "\n"
     ]
    }
   ],
   "source": [
    "#summary of testing data\n",
    "test_data.describe().show()"
   ]
  },
  {
   "cell_type": "code",
   "execution_count": 11,
   "metadata": {},
   "outputs": [],
   "source": [
    "#defining LR model specifying the label\n",
    "lr = LinearRegression(labelCol='crew')"
   ]
  },
  {
   "cell_type": "code",
   "execution_count": 12,
   "metadata": {},
   "outputs": [],
   "source": [
    "#Trainign the LR with training data\n",
    "lrModel = lr.fit(train_data,)"
   ]
  },
  {
   "cell_type": "code",
   "execution_count": 13,
   "metadata": {},
   "outputs": [],
   "source": [
    "test_results = lrModel.evaluate(test_data)"
   ]
  },
  {
   "cell_type": "code",
   "execution_count": 14,
   "metadata": {},
   "outputs": [
    {
     "name": "stdout",
     "output_type": "stream",
     "text": [
      "+--------------------+\n",
      "|           residuals|\n",
      "+--------------------+\n",
      "|-0.00556834757052...|\n",
      "|  0.4655397996926274|\n",
      "| -0.7706746316692978|\n",
      "|  -0.604742259334694|\n",
      "| 0.47201445412662935|\n",
      "|-0.36860040354372714|\n",
      "| -0.5367110203027288|\n",
      "| -0.4567702202114585|\n",
      "|  0.2874534529224526|\n",
      "| -0.9736715331866392|\n",
      "| -1.4099036620120113|\n",
      "|  0.4432420122929921|\n",
      "|  0.7730489334849366|\n",
      "| -1.5817831017951614|\n",
      "|  0.7694422904314209|\n",
      "| -1.4813782662918662|\n",
      "|-0.02851111905918...|\n",
      "|-0.02454967251743634|\n",
      "|-0.07524225477451463|\n",
      "|  0.5922002960912689|\n",
      "+--------------------+\n",
      "only showing top 20 rows\n",
      "\n"
     ]
    }
   ],
   "source": [
    "test_results.residuals.show()"
   ]
  },
  {
   "cell_type": "code",
   "execution_count": 15,
   "metadata": {},
   "outputs": [],
   "source": [
    "#making use of features to test the test data\n",
    "unlabeled_data = test_data.select('features')"
   ]
  },
  {
   "cell_type": "code",
   "execution_count": 16,
   "metadata": {},
   "outputs": [],
   "source": [
    "#Get the predicted values\n",
    "predictions = lrModel.transform(unlabeled_data)"
   ]
  },
  {
   "cell_type": "code",
   "execution_count": 17,
   "metadata": {},
   "outputs": [
    {
     "name": "stdout",
     "output_type": "stream",
     "text": [
      "+--------------------+------------------+\n",
      "|            features|        prediction|\n",
      "+--------------------+------------------+\n",
      "|[4.0,220.0,54.0,1...|21.005568347570527|\n",
      "|[5.0,122.0,28.5,1...| 6.234460200307373|\n",
      "|[6.0,90.0,20.0,9....| 9.770674631669298|\n",
      "|[8.0,110.0,29.74,...|12.204742259334694|\n",
      "|[9.0,81.0,21.44,9...|  9.52798554587337|\n",
      "|[9.0,116.0,26.0,9...|11.368600403543727|\n",
      "|[10.0,81.76899999...| 8.956711020302729|\n",
      "|[10.0,91.62700000...| 9.456770220211459|\n",
      "|[11.0,58.6,15.66,...| 7.312546547077547|\n",
      "|[11.0,85.0,18.48,...|  8.97367153318664|\n",
      "|[11.0,138.0,31.14...|13.259903662012011|\n",
      "|[12.0,42.0,14.8,7...| 6.356757987707008|\n",
      "|[12.0,77.104,20.0...| 8.816951066515063|\n",
      "|[13.0,63.0,14.4,7...| 6.891783101795161|\n",
      "|[13.0,91.0,20.32,...|  9.22055770956858|\n",
      "|[13.0,138.0,31.14...|13.241378266291866|\n",
      "|[14.0,30.27699999...|3.7585111190591887|\n",
      "|[14.0,30.27699999...|3.7545496725174363|\n",
      "|[16.0,59.652,13.2...| 6.515242254774515|\n",
      "|[16.0,77.71300000...| 8.497799703908731|\n",
      "+--------------------+------------------+\n",
      "only showing top 20 rows\n",
      "\n"
     ]
    }
   ],
   "source": [
    "predictions.show()"
   ]
  },
  {
   "cell_type": "code",
   "execution_count": 18,
   "metadata": {
    "scrolled": true
   },
   "outputs": [
    {
     "name": "stdout",
     "output_type": "stream",
     "text": [
      "+--------------------+-----+\n",
      "|            features| crew|\n",
      "+--------------------+-----+\n",
      "|[4.0,220.0,54.0,1...| 21.0|\n",
      "|[5.0,122.0,28.5,1...|  6.7|\n",
      "|[6.0,90.0,20.0,9....|  9.0|\n",
      "|[8.0,110.0,29.74,...| 11.6|\n",
      "|[9.0,81.0,21.44,9...| 10.0|\n",
      "|[9.0,116.0,26.0,9...| 11.0|\n",
      "|[10.0,81.76899999...| 8.42|\n",
      "|[10.0,91.62700000...|  9.0|\n",
      "|[11.0,58.6,15.66,...|  7.6|\n",
      "|[11.0,85.0,18.48,...|  8.0|\n",
      "|[11.0,138.0,31.14...|11.85|\n",
      "|[12.0,42.0,14.8,7...|  6.8|\n",
      "|[12.0,77.104,20.0...| 9.59|\n",
      "|[13.0,63.0,14.4,7...| 5.31|\n",
      "|[13.0,91.0,20.32,...| 9.99|\n",
      "|[13.0,138.0,31.14...|11.76|\n",
      "|[14.0,30.27699999...| 3.73|\n",
      "|[14.0,30.27699999...| 3.73|\n",
      "|[16.0,59.652,13.2...| 6.44|\n",
      "|[16.0,77.71300000...| 9.09|\n",
      "+--------------------+-----+\n",
      "only showing top 20 rows\n",
      "\n"
     ]
    }
   ],
   "source": [
    "test_data.show()"
   ]
  },
  {
   "cell_type": "code",
   "execution_count": 19,
   "metadata": {},
   "outputs": [
    {
     "name": "stdout",
     "output_type": "stream",
     "text": [
      "+-----+------------------+\n",
      "| crew|        prediction|\n",
      "+-----+------------------+\n",
      "| 21.0|21.005568347570527|\n",
      "|  6.7| 6.234460200307373|\n",
      "|  9.0| 9.770674631669298|\n",
      "| 11.6|12.204742259334694|\n",
      "| 10.0|  9.52798554587337|\n",
      "| 11.0|11.368600403543727|\n",
      "| 8.42| 8.956711020302729|\n",
      "|  9.0| 9.456770220211459|\n",
      "|  7.6| 7.312546547077547|\n",
      "|  8.0|  8.97367153318664|\n",
      "|11.85|13.259903662012011|\n",
      "|  6.8| 6.356757987707008|\n",
      "| 9.59| 8.816951066515063|\n",
      "| 5.31| 6.891783101795161|\n",
      "| 9.99|  9.22055770956858|\n",
      "|11.76|13.241378266291866|\n",
      "| 3.73|3.7585111190591887|\n",
      "| 3.73|3.7545496725174363|\n",
      "| 6.44| 6.515242254774515|\n",
      "| 9.09| 8.497799703908731|\n",
      "+-----+------------------+\n",
      "only showing top 20 rows\n",
      "\n"
     ]
    }
   ],
   "source": [
    "#comparing test labels with predictions\n",
    "test_data.join(predictions,\"features\").select(\"crew\",\"prediction\").show()"
   ]
  },
  {
   "cell_type": "code",
   "execution_count": null,
   "metadata": {},
   "outputs": [],
   "source": []
  }
 ],
 "metadata": {
  "anaconda-cloud": {},
  "kernelspec": {
   "display_name": "Python 3",
   "language": "python",
   "name": "python3"
  },
  "language_info": {
   "codemirror_mode": {
    "name": "ipython",
    "version": 3
   },
   "file_extension": ".py",
   "mimetype": "text/x-python",
   "name": "python",
   "nbconvert_exporter": "python",
   "pygments_lexer": "ipython3",
   "version": "3.7.6"
  }
 },
 "nbformat": 4,
 "nbformat_minor": 1
}
